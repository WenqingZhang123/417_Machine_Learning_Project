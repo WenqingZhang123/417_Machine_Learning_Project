{
 "cells": [
  {
   "cell_type": "markdown",
   "id": "cbef0d20-516f-43e3-88de-d6ee61ae2c62",
   "metadata": {},
   "source": [
    "# PCA"
   ]
  },
  {
   "cell_type": "code",
   "execution_count": 1,
   "id": "d252ed90-d6c8-4739-8e5e-cc7ebbdb3a0f",
   "metadata": {},
   "outputs": [],
   "source": [
    "import pandas as pd\n",
    "import numpy as np\n",
    "from sklearn.decomposition import PCA\n",
    "from sklearn.impute import SimpleImputer\n",
    "from sklearn.model_selection import train_test_split\n",
    "\n",
    "def process_heart_disease_data(input_filename, output_filename_prefix):\n",
    "    \"\"\"\n",
    "    This function processes heart disease data by applying PCA and splitting it into training and test sets.\n",
    "\n",
    "    Parameters:\n",
    "    input_filename (str): The name of the CSV file containing the dataset.\n",
    "    output_filename_prefix (str): The prefix for output CSV files containing the processed data.\n",
    "\n",
    "    Returns:\n",
    "    tuple: Returns a tuple containing the PCA-applied feature matrix X, labels y, and the split datasets X_train_pca, X_test_pca, y_train_pca, y_test_pca.\n",
    "    \"\"\"\n",
    "    # Load the dataset\n",
    "    wine_quality = pd.read_csv(input_filename)\n",
    "\n",
    "    # Fill missing values with mean\n",
    "    imputer = SimpleImputer(missing_values=np.nan, strategy='mean')\n",
    "    y = wine_quality['quality']\n",
    "    X = imputer.fit_transform(wine_quality.drop(['quality'], axis=1))\n",
    "\n",
    "    # Apply PCA to reduce dimensionality to 6 principal components\n",
    "    pca = PCA(n_components=6)\n",
    "    X_pca = pca.fit_transform(X)\n",
    "\n",
    "    # Convert the PCA transformed data and labels to a DataFrame and specify the column names\n",
    "    X_pca_df = pd.DataFrame(X_pca, columns=[f'PC{i+1}' for i in range(6)])\n",
    "    y_df = pd.DataFrame(y, columns=['quality']).reset_index(drop=True)\n",
    "\n",
    "    # Combine PCA transformed data and labels\n",
    "    combined_df = pd.concat([X_pca_df, y_df], axis=1)\n",
    "    \n",
    "    # Save the PCA transformed data set as CSV file\n",
    "    combined_df.to_csv(f'{output_filename_prefix}.csv', index=False)\n",
    "\n",
    "    # Split training set and test set\n",
    "    X_train_pca, X_test_pca, y_train_pca, y_test_pca = train_test_split(X_pca_df, y_df, test_size=0.1, random_state=42)\n",
    "\n",
    "    # Save the training set and test set as CSV files\n",
    "    train_pca_df = pd.concat([X_train_pca, y_train_pca], axis=1)\n",
    "    test_pca_df = pd.concat([X_test_pca, y_test_pca], axis=1)\n",
    "    train_pca_df.to_csv(f'{output_filename_prefix}_train.csv', index=False)\n",
    "    test_pca_df.to_csv(f'{output_filename_prefix}_test.csv', index=False)\n",
    "\n",
    "    return X_pca_df, y_df, X_train_pca, X_test_pca, y_train_pca, y_test_pca"
   ]
  },
  {
   "cell_type": "code",
   "execution_count": 2,
   "id": "719be04b-5f1d-4d31-9304-a105017367f1",
   "metadata": {},
   "outputs": [],
   "source": [
    "X_pca, y, X_train, X_test, y_train, y_test = process_heart_disease_data('processed_wine_quality.csv', 'processed_wine_quality_pca')"
   ]
  },
  {
   "cell_type": "markdown",
   "id": "7140bf17-a38a-47e5-b6d2-5e18f409b57f",
   "metadata": {},
   "source": [
    "# Feature Selection - Random forest feature importance evaluation"
   ]
  },
  {
   "cell_type": "code",
   "execution_count": 3,
   "id": "75658a98-0a41-4514-9f15-7ba87adbf8e6",
   "metadata": {},
   "outputs": [],
   "source": [
    "import pandas as pd\n",
    "import numpy as np\n",
    "from sklearn.impute import SimpleImputer\n",
    "from sklearn.ensemble import RandomForestClassifier\n",
    "from sklearn.model_selection import train_test_split\n",
    "\n",
    "def feature_selection_and_split(input_filename, output_filename_prefix, n_estimators_num):\n",
    "    \"\"\"\n",
    "    This function performs feature selection using a RandomForestClassifier and splits the data into training and test sets.\n",
    "\n",
    "    Parameters:\n",
    "    input_filename (str): The name of the CSV file containing the dataset.\n",
    "    output_filename_prefix (str): The prefix for output CSV files containing the processed data.\n",
    "\n",
    "    Returns:\n",
    "    tuple: Returns a tuple containing the selected features X, labels y, and the split datasets X_train_selected, X_test_selected, y_train_selected, y_test_selected.\n",
    "    \"\"\"\n",
    "    # Load the dataset\n",
    "    wine_quality = pd.read_csv(input_filename)\n",
    "\n",
    "    # Handle missing values\n",
    "    imputer = SimpleImputer(missing_values=np.nan, strategy='mean')\n",
    "    X = imputer.fit_transform(wine_quality.drop(['quality'], axis=1))\n",
    "    y = wine_quality['quality']\n",
    "\n",
    "    # Train a random forest model to obtain feature importance\n",
    "    rf = RandomForestClassifier(n_estimators= n_estimators_num, random_state=42)\n",
    "    rf.fit(X, y)\n",
    "\n",
    "    # Get feature importance scores and sort them\n",
    "    importances = rf.feature_importances_\n",
    "    indices = np.argsort(importances)[::-1]\n",
    "\n",
    "    # Pick half of the most important features\n",
    "    num_features = len(indices) // 2\n",
    "    selected_indices = indices[:num_features]\n",
    "    X_selected = X[:, selected_indices]\n",
    "\n",
    "    # Create DataFrames for the selected features and labels\n",
    "    X_selected_df = pd.DataFrame(X_selected, columns=[f'Feature_{i+1}' for i in range(num_features)])\n",
    "    y_df = pd.DataFrame(y, columns=['quality'])\n",
    "\n",
    "    combined_df = pd.concat([X_selected_df, y_df], axis=1)\n",
    "    combined_df.to_csv(f'{output_filename_prefix}.csv', index=False)\n",
    "\n",
    "    # Split the data into training and testing sets\n",
    "    X_train_selected, X_test_selected, y_train_selected, y_test_selected = train_test_split(X_selected_df, y_df, test_size=0.1, random_state=42)\n",
    "\n",
    "    # Save the training and test sets as CSV files\n",
    "    train_selected_df = pd.concat([X_train_selected, y_train_selected], axis=1)\n",
    "    test_selected_df = pd.concat([X_test_selected, y_test_selected], axis=1)\n",
    "    train_selected_df.to_csv(f'{output_filename_prefix}_train.csv', index=False)\n",
    "    test_selected_df.to_csv(f'{output_filename_prefix}_test.csv', index=False)\n",
    "\n",
    "    return X_selected_df, y_df, X_train_selected, X_test_selected, y_train_selected, y_test_selected"
   ]
  },
  {
   "cell_type": "code",
   "execution_count": 4,
   "id": "5fd025eb-5c8f-4af4-a3bb-e67bfb809132",
   "metadata": {},
   "outputs": [],
   "source": [
    "X_selected, y, X_train, X_test, y_train, y_test = feature_selection_and_split('processed_wine_quality.csv', 'processed_wine_quality_feature_selected', 250)"
   ]
  },
  {
   "cell_type": "code",
   "execution_count": null,
   "id": "456a0d5b-1052-40c2-a117-eb65e7fc3f21",
   "metadata": {},
   "outputs": [],
   "source": []
  }
 ],
 "metadata": {
  "kernelspec": {
   "display_name": "Python 3 (ipykernel)",
   "language": "python",
   "name": "python3"
  },
  "language_info": {
   "codemirror_mode": {
    "name": "ipython",
    "version": 3
   },
   "file_extension": ".py",
   "mimetype": "text/x-python",
   "name": "python",
   "nbconvert_exporter": "python",
   "pygments_lexer": "ipython3",
   "version": "3.10.13"
  }
 },
 "nbformat": 4,
 "nbformat_minor": 5
}
